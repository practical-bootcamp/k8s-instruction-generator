{
 "cells": [
  {
   "cell_type": "markdown",
   "id": "fa6148df",
   "metadata": {},
   "source": [
    "# Build Indiviual student task random session and instruction"
   ]
  },
  {
   "cell_type": "code",
   "execution_count": 2,
   "id": "99a43816",
   "metadata": {},
   "outputs": [],
   "source": [
    "game = \"game01\""
   ]
  },
  {
   "cell_type": "code",
   "execution_count": null,
   "id": "initial-cell",
   "metadata": {},
   "outputs": [],
   "source": [
    "from session import get_tasks\n",
    "# Read the file and store each line in a list\n",
    "with open(\"data/student_email.txt\", \"r\") as file:\n",
    "    emails = file.readlines()\n",
    "    \n",
    "# Remove any trailing newline characters from each email\n",
    "emails = [email.strip() for email in emails]\n",
    "\n",
    "tasks = get_tasks(game)"
   ]
  },
  {
   "cell_type": "markdown",
   "id": "5e9a9928",
   "metadata": {},
   "source": [
    "Create random session object for each student."
   ]
  },
  {
   "cell_type": "code",
   "execution_count": null,
   "id": "fbfede83",
   "metadata": {},
   "outputs": [
    {
     "name": "stdout",
     "output_type": "stream",
     "text": [
      "{'123456789@stu.vtc.edu.hk': [{'namespace': 'dazzlingelgamal123456789'}, {'namespace': 'dazzlingelgamal3123456789'}, {'namespace': 'default'}, {'namespace': 'default'}, {'namespace': 'dazzlingelgamal3123456789'}, {'namespace': 'dazzlingelgamal3123456789'}, {'namespace': 'dazzlingelgamal3123456789'}, {'namespace': 'dazzlingelgamal3123456789'}, {'namespace': 'dazzlingelgamal3123456789'}, {'namespace': 'dazzlingelgamal3123456789'}, {'namespace': 'dazzlingelgamal3123456789'}, {'namespace': 'dazzlingelgamal3123456789', 'value1': 'dazzlingelgamal', 'value2': 'dazzlingelgamal'}, {'namespace': 'dazzlingelgamal3123456789', 'value1': 'dazzlingelgamal'}, {'namespace': 'dazzlingelgamal3123456789', 'value1': 'dazzlingelgamal', 'value2': 'dazzlingelgamal'}, {'namespace': 'dazzlingelgamal3123456789', 'configmap_name': 'dazzlingelgamal', 'value1': 'dazzlingelgamal', 'value2': 'dazzlingelgamal'}, {'namespace': 'dazzlingelgamal3123456789', 'value1': 'dazzlingelgamal', 'value2': 'dazzlingelgamal'}, {'namespace': 'dazzlingelgamal3123456789', 'value1': '3881'}, {'namespace': 'dazzlingelgamal3123456789'}, {'namespace': 'dazzlingelgamal3123456789'}, {'namespace': 'dazzlingelgamal3123456789'}, {'namespace': 'dazzlingelgamal3123456789'}, {'namespace': 'dazzlingelgamal3123456789'}, {'namespace': 'dazzlingelgamal3123456789'}, {'namespace': 'dazzlingelgamal3123456789', 'value1': 'ZGF6emxpbmdlbGdhbWFs'}, {'namespace': 'dazzlingelgamal3123456789'}, {'namespace': 'dazzlingelgamal3123456789'}], '987654321@stu.vtc.edu.hk': [{'namespace': 'happydriscoll987654321'}, {'namespace': 'happydriscoll6987654321'}, {'namespace': 'default'}, {'namespace': 'default'}, {'namespace': 'happydriscoll6987654321'}, {'namespace': 'happydriscoll6987654321'}, {'namespace': 'happydriscoll6987654321'}, {'namespace': 'happydriscoll6987654321'}, {'namespace': 'happydriscoll6987654321'}, {'namespace': 'happydriscoll6987654321'}, {'namespace': 'happydriscoll6987654321'}, {'namespace': 'happydriscoll6987654321', 'value1': 'happydriscoll', 'value2': 'happydriscoll'}, {'namespace': 'happydriscoll6987654321', 'value1': 'happydriscoll'}, {'namespace': 'happydriscoll6987654321', 'value1': 'happydriscoll', 'value2': 'happydriscoll'}, {'namespace': 'happydriscoll6987654321', 'configmap_name': 'happydriscoll', 'value1': 'happydriscoll', 'value2': 'happydriscoll'}, {'namespace': 'happydriscoll6987654321', 'value1': 'happydriscoll', 'value2': 'happydriscoll'}, {'namespace': 'happydriscoll6987654321', 'value1': '6950'}, {'namespace': 'happydriscoll6987654321'}, {'namespace': 'happydriscoll6987654321'}, {'namespace': 'happydriscoll6987654321'}, {'namespace': 'happydriscoll6987654321'}, {'namespace': 'happydriscoll6987654321'}, {'namespace': 'happydriscoll6987654321'}, {'namespace': 'happydriscoll6987654321', 'value1': 'aGFwcHlkcmlzY29sbA=='}, {'namespace': 'happydriscoll6987654321'}, {'namespace': 'happydriscoll6987654321'}]}\n"
     ]
    }
   ],
   "source": [
    "from session import generate_session, get_instruction\n",
    "import os\n",
    "import json\n",
    "\n",
    "\n",
    "\n",
    "# Iterate over each email and generate a session for each student\n",
    "sessions = {}\n",
    "instructions = {}\n",
    "output_dir = \"output\"\n",
    "os.makedirs(output_dir, exist_ok=True)\n",
    "\n",
    "for email in emails:\n",
    "    email_dir = os.path.join(output_dir, email)\n",
    "    os.makedirs(email_dir, exist_ok=True)\n",
    "    for task in tasks:\n",
    "        session = generate_session(email, game, task)\n",
    "        instruction = get_instruction(game, task, session)\n",
    "        \n",
    "        task_dir = os.path.join(email_dir, task)\n",
    "        os.makedirs(task_dir, exist_ok=True)\n",
    "        \n",
    "        session_file = os.path.join(task_dir, \"session.json\")\n",
    "        instruction_file = os.path.join(task_dir, \"raw_instruction.md\")\n",
    "        \n",
    "        with open(session_file, \"w\") as sf:\n",
    "            json.dump(session, sf)\n",
    "        \n",
    "        with open(instruction_file, \"w\") as inf:\n",
    "            inf.write(instruction)\n",
    "        \n",
    "        if email not in sessions:\n",
    "            sessions[email] = []\n",
    "        sessions[email].append(session)\n",
    "        \n",
    "        if email not in instructions:\n",
    "            instructions[email] = []\n",
    "        instructions[email].append(instruction)\n",
    "\n",
    "print(sessions)"
   ]
  },
  {
   "cell_type": "code",
   "execution_count": 11,
   "id": "fd0ce3e0",
   "metadata": {},
   "outputs": [
    {
     "name": "stdout",
     "output_type": "stream",
     "text": [
      "{'123456789@stu.vtc.edu.hk': ['Please provide the Kubernetes confidential information and host address.', \"Create a namespace called 'dazzlingelgamal3123456789'.\", 'Create a Pod named \"nginx\" using the \"nginx\" image. Expose the Pod\\'s port 80 to network traffic within the default namespace.', 'Create a Pod named \"nginx\" using the \"nginx:1.24.0\" image. Expose the Pod\\'s port 80 to network traffic within the default namespace.', 'Create a Pod named \"nginx1\" using the \"nginx\" image. Expose port 80 for network traffic within the default namespace.  Label the Pod with `app=v1`.', \"In the 'dazzlingelgamal3123456789' namespace, change the labels of pod 'nginx2' to `app=v2`.\", \"In the 'dazzlingelgamal3123456789' namespace, add the label `tier=web` to all pods with the labels `app=v2` or `app=v1`.\", \"In the 'dazzlingelgamal3123456789' namespace, add the annotation `owner: marketing` to all pods labeled `app=v2`.\", \"In the 'dazzlingelgamal3123456789' namespace, remove the 'app' label from all pods.\", 'In the \\'dazzlingelgamal3123456789\\' namespace, annotate the nginx1, nginx2, and nginx3 pods with the description \"my description.\"', \"In the 'dazzlingelgamal3123456789' namespace, remove the annotations for the pods.\", \"In the 'dazzlingelgamal3123456789' namespace, create a configmap named config with values foo=dazzlingelgamal, and foo2=dazzlingelgamal.\", \"In the 'dazzlingelgamal3123456789' namespace, Create and display a configmap giving the key 'special'， special value dazzlingelgamal\", \"In the 'dazzlingelgamal3123456789' namespace, Create a ConfigMap named options with the value var5=dazzlingelgamal and a Pod named nginx that loads the value from the options ConfigMap into an environment variable called option.\", \"In the 'dazzlingelgamal3123456789' namespace, create a ConfigMap named dazzlingelgamal with the values var6=dazzlingelgamal and var7=dazzlingelgamal, and create a new nginx Pod that loads these values as environment variables.\", \"In the 'dazzlingelgamal3123456789' namespace, Create a configMap 'cmvolume' with values 'var8=dazzlingelgamal', 'var9=dazzlingelgamal'. Load this as a volume inside an nginx pod on path '/etc/lala'. Create the pod and 'ls' into the '/etc/lala' directory.\", \"In the 'dazzlingelgamal3123456789' namespace, Deploy the YAML for an nginx pod that runs with the user ID 3881.\", 'In the \\'dazzlingelgamal3123456789\\' namespace, Deploy the YAML for an nginx pod that has the capabilities \"NET_ADMIN\", \"SYS_TIME\" added to its single container.', \"In the 'dazzlingelgamal3123456789' namespace, create limits pod memory to a max of 500Mi and min of 100Mi.\", \"In the 'dazzlingelgamal3123456789' namespace, create pod that requests 250Mi of memory\\n(The question has set 100-500Mi)\", 'Create ResourceQuota in namespace dazzlingelgamal3123456789 with hard requests cpu=1, memory=1Gi and hard limits cpu=2, memory=2Gi.', 'Attempt to create a pod with resource requests cpu=2, memory=3Gi and limits cpu=3, memory=4Gi in namespace one（WILL cannot create）', 'In namespace dazzlingelgamal3123456789, Create a pod with resource requests cpu=0.5, memory=1Gi and limits cpu=1, memory=2Gi.', 'In the dazzlingelgamal3123456789 namespace, Create a secret called mysecret with the values password=ZGF6emxpbmdlbGdhbWFs', \"In the namespace 'dazzlingelgamal3123456789', create a Secret named 'ilovek8s'. Then, provide the key-value pair API_KEY=<encoded_value> as literal.\\n\\nHint: The value for API_KEY is the Base64 encoded version of the string 'ilovek8s'. You can use the following command to generate it:\\n\\necho -n 'ilovek8s' | base64\", 'In the dazzlingelgamal3123456789 namespace, Create a busybox pod that runs i=0; while true; do echo \"$i: $(date)\"; i=$((i+1)); sleep 1; done. Check its logs'], '987654321@stu.vtc.edu.hk': ['Please provide the Kubernetes confidential information and host address.', \"Create a namespace called 'happydriscoll6987654321'.\", 'Create a Pod named \"nginx\" using the \"nginx\" image. Expose the Pod\\'s port 80 to network traffic within the default namespace.', 'Create a Pod named \"nginx\" using the \"nginx:1.24.0\" image. Expose the Pod\\'s port 80 to network traffic within the default namespace.', 'Create a Pod named \"nginx1\" using the \"nginx\" image. Expose port 80 for network traffic within the default namespace.  Label the Pod with `app=v1`.', \"In the 'happydriscoll6987654321' namespace, change the labels of pod 'nginx2' to `app=v2`.\", \"In the 'happydriscoll6987654321' namespace, add the label `tier=web` to all pods with the labels `app=v2` or `app=v1`.\", \"In the 'happydriscoll6987654321' namespace, add the annotation `owner: marketing` to all pods labeled `app=v2`.\", \"In the 'happydriscoll6987654321' namespace, remove the 'app' label from all pods.\", 'In the \\'happydriscoll6987654321\\' namespace, annotate the nginx1, nginx2, and nginx3 pods with the description \"my description.\"', \"In the 'happydriscoll6987654321' namespace, remove the annotations for the pods.\", \"In the 'happydriscoll6987654321' namespace, create a configmap named config with values foo=happydriscoll, and foo2=happydriscoll.\", \"In the 'happydriscoll6987654321' namespace, Create and display a configmap giving the key 'special'， special value happydriscoll\", \"In the 'happydriscoll6987654321' namespace, Create a ConfigMap named options with the value var5=happydriscoll and a Pod named nginx that loads the value from the options ConfigMap into an environment variable called option.\", \"In the 'happydriscoll6987654321' namespace, create a ConfigMap named happydriscoll with the values var6=happydriscoll and var7=happydriscoll, and create a new nginx Pod that loads these values as environment variables.\", \"In the 'happydriscoll6987654321' namespace, Create a configMap 'cmvolume' with values 'var8=happydriscoll', 'var9=happydriscoll'. Load this as a volume inside an nginx pod on path '/etc/lala'. Create the pod and 'ls' into the '/etc/lala' directory.\", \"In the 'happydriscoll6987654321' namespace, Deploy the YAML for an nginx pod that runs with the user ID 6950.\", 'In the \\'happydriscoll6987654321\\' namespace, Deploy the YAML for an nginx pod that has the capabilities \"NET_ADMIN\", \"SYS_TIME\" added to its single container.', \"In the 'happydriscoll6987654321' namespace, create limits pod memory to a max of 500Mi and min of 100Mi.\", \"In the 'happydriscoll6987654321' namespace, create pod that requests 250Mi of memory\\n(The question has set 100-500Mi)\", 'Create ResourceQuota in namespace happydriscoll6987654321 with hard requests cpu=1, memory=1Gi and hard limits cpu=2, memory=2Gi.', 'Attempt to create a pod with resource requests cpu=2, memory=3Gi and limits cpu=3, memory=4Gi in namespace one（WILL cannot create）', 'In namespace happydriscoll6987654321, Create a pod with resource requests cpu=0.5, memory=1Gi and limits cpu=1, memory=2Gi.', 'In the happydriscoll6987654321 namespace, Create a secret called mysecret with the values password=aGFwcHlkcmlzY29sbA==', \"In the namespace 'happydriscoll6987654321', create a Secret named 'ilovek8s'. Then, provide the key-value pair API_KEY=<encoded_value> as literal.\\n\\nHint: The value for API_KEY is the Base64 encoded version of the string 'ilovek8s'. You can use the following command to generate it:\\n\\necho -n 'ilovek8s' | base64\", 'In the happydriscoll6987654321 namespace, Create a busybox pod that runs i=0; while true; do echo \"$i: $(date)\"; i=$((i+1)); sleep 1; done. Check its logs']}\n"
     ]
    }
   ],
   "source": [
    "print(instructions)"
   ]
  },
  {
   "cell_type": "code",
   "execution_count": null,
   "id": "8d42f4e2",
   "metadata": {},
   "outputs": [],
   "source": []
  }
 ],
 "metadata": {
  "kernelspec": {
   "display_name": "venv",
   "language": "python",
   "name": "python3"
  },
  "language_info": {
   "codemirror_mode": {
    "name": "ipython",
    "version": 3
   },
   "file_extension": ".py",
   "mimetype": "text/x-python",
   "name": "python",
   "nbconvert_exporter": "python",
   "pygments_lexer": "ipython3",
   "version": "3.12.8"
  }
 },
 "nbformat": 4,
 "nbformat_minor": 5
}
