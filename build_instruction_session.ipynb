{
 "cells": [
  {
   "cell_type": "markdown",
   "id": "fa6148df",
   "metadata": {},
   "source": [
    "# Build Indiviual student task random session and instruction"
   ]
  },
  {
   "cell_type": "code",
   "execution_count": 10,
   "id": "99a43816",
   "metadata": {},
   "outputs": [],
   "source": [
    "game = \"game01\""
   ]
  },
  {
   "cell_type": "code",
   "execution_count": 11,
   "id": "initial-cell",
   "metadata": {},
   "outputs": [],
   "source": [
    "from session import get_tasks\n",
    "# Read the file and store each line in a list\n",
    "with open(\"data/student_email.txt\", \"r\") as file:\n",
    "    emails = file.readlines()\n",
    "    \n",
    "# Remove any trailing newline characters from each email\n",
    "emails = [email.strip() for email in emails]\n",
    "\n",
    "tasks = get_tasks(game)"
   ]
  },
  {
   "cell_type": "markdown",
   "id": "5e9a9928",
   "metadata": {},
   "source": [
    "Create random session object for each student."
   ]
  },
  {
   "cell_type": "code",
   "execution_count": 15,
   "id": "fbfede83",
   "metadata": {},
   "outputs": [],
   "source": [
    "from session import generate_session, get_instruction\n",
    "import os\n",
    "import json\n",
    "\n",
    "\n",
    "# Iterate over each email and generate a session for each student\n",
    "sessions = {}\n",
    "instructions = {}\n",
    "output_dir = os.path.join(\"output\", \"students\")\n",
    "os.makedirs(output_dir, exist_ok=True)\n",
    "\n",
    "for email in emails:\n",
    "    email_dir = os.path.join(output_dir, email)\n",
    "    os.makedirs(email_dir, exist_ok=True)\n",
    "    for task in tasks:\n",
    "        session = generate_session(email, game, task)\n",
    "        instruction = get_instruction(game, task, session)\n",
    "        \n",
    "        task_dir = os.path.join(email_dir, task)\n",
    "        os.makedirs(task_dir, exist_ok=True)\n",
    "        \n",
    "        session_file = os.path.join(task_dir, \"session.json\")\n",
    "        instruction_file = os.path.join(task_dir, \"raw_instruction.md\")\n",
    "        \n",
    "        with open(session_file, \"w\") as sf:\n",
    "            json.dump(session, sf, indent=4)\n",
    "        \n",
    "        with open(instruction_file, \"w\") as inf:\n",
    "            inf.write(instruction)\n",
    "        \n",
    "        if email not in sessions:\n",
    "            sessions[email] = []\n",
    "        sessions[email].append(session)\n",
    "        \n",
    "        if email not in instructions:\n",
    "            instructions[email] = []\n",
    "        instructions[email].append(instruction)\n"
   ]
  },
  {
   "cell_type": "code",
   "execution_count": null,
   "id": "d8b8ae1d",
   "metadata": {},
   "outputs": [
    {
     "ename": "NameError",
     "evalue": "name 'os' is not defined",
     "output_type": "error",
     "traceback": [
      "\u001b[0;31m---------------------------------------------------------------------------\u001b[0m",
      "\u001b[0;31mNameError\u001b[0m                                 Traceback (most recent call last)",
      "Cell \u001b[0;32mIn[1], line 3\u001b[0m\n\u001b[1;32m      1\u001b[0m \u001b[38;5;28;01mfrom\u001b[39;00m\u001b[38;5;250m \u001b[39m\u001b[38;5;21;01msession\u001b[39;00m\u001b[38;5;250m \u001b[39m\u001b[38;5;28;01mimport\u001b[39;00m get_instruction_template\n\u001b[0;32m----> 3\u001b[0m output_dir \u001b[38;5;241m=\u001b[39m \u001b[43mos\u001b[49m\u001b[38;5;241m.\u001b[39mpath\u001b[38;5;241m.\u001b[39mjoin(\u001b[38;5;124m\"\u001b[39m\u001b[38;5;124moutput\u001b[39m\u001b[38;5;124m\"\u001b[39m, \u001b[38;5;124m\"\u001b[39m\u001b[38;5;124mtask_templates\u001b[39m\u001b[38;5;124m\"\u001b[39m)\n\u001b[1;32m      4\u001b[0m \u001b[38;5;28;01mfor\u001b[39;00m task \u001b[38;5;129;01min\u001b[39;00m tasks:\n\u001b[1;32m      5\u001b[0m     template \u001b[38;5;241m=\u001b[39m get_instruction_template(game, task)\n",
      "\u001b[0;31mNameError\u001b[0m: name 'os' is not defined"
     ]
    }
   ],
   "source": [
    "from session import get_instruction_template\n",
    "import os\n",
    "\n",
    "output_dir = os.path.join(\"output\", \"task_templates\")\n",
    "for task in tasks:\n",
    "    template = get_instruction_template(game, task)\n",
    "    task_dir = os.path.join(output_dir, task)\n",
    "    os.makedirs(task_dir, exist_ok=True)\n",
    "    template_file = os.path.join(task_dir, \"template.md\")\n",
    "    with open(template_file, \"w\") as tf:\n",
    "        tf.write(template)"
   ]
  },
  {
   "cell_type": "code",
   "execution_count": null,
   "id": "5f3288ac",
   "metadata": {},
   "outputs": [],
   "source": []
  }
 ],
 "metadata": {
  "kernelspec": {
   "display_name": "venv",
   "language": "python",
   "name": "python3"
  },
  "language_info": {
   "codemirror_mode": {
    "name": "ipython",
    "version": 3
   },
   "file_extension": ".py",
   "mimetype": "text/x-python",
   "name": "python",
   "nbconvert_exporter": "python",
   "pygments_lexer": "ipython3",
   "version": "3.12.8"
  }
 },
 "nbformat": 4,
 "nbformat_minor": 5
}
