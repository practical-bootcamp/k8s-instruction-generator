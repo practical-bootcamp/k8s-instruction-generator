{
 "cells": [
  {
   "cell_type": "markdown",
   "metadata": {},
   "source": [
    "# Save the AI generated conversation to Game DynamoDB"
   ]
  },
  {
   "cell_type": "code",
   "execution_count": 1,
   "metadata": {},
   "outputs": [],
   "source": [
    "dynamodb_table_name = \"k8s-grader-api-ConversationTable-WSZ51CCEMPPZ\""
   ]
  },
  {
   "cell_type": "code",
   "execution_count": 2,
   "metadata": {},
   "outputs": [],
   "source": [
    "import os\n",
    "\n",
    "\n",
    "output_dir = \"output/rerwrite/\"\n",
    "game = \"game01\"\n",
    "\n",
    "tasks_folder = os.path.join(output_dir, game)\n",
    "\n",
    "file_list = []\n",
    "for root, dirs, files in os.walk(tasks_folder):\n",
    "    for file in files:\n",
    "        file_list.append(os.path.join(root, file))"
   ]
  },
  {
   "cell_type": "code",
   "execution_count": 3,
   "metadata": {},
   "outputs": [],
   "source": [
    "data ={}\n",
    "for file_path in file_list:\n",
    "    parts = file_path.split('/')\n",
    "    key = f\"{parts[2]}#{parts[3]}#{parts[4]}\"  \n",
    "    with open(file_path, 'r') as f:\n",
    "        content = f.read()\n",
    "        data[key] = content   \n",
    "    \n"
   ]
  },
  {
   "cell_type": "code",
   "execution_count": 5,
   "metadata": {},
   "outputs": [
    {
     "name": "stdout",
     "output_type": "stream",
     "text": [
      "Successfully stored 468 items in DynamoDB table 'k8s-grader-api-ConversationTable-WSZ51CCEMPPZ'\n"
     ]
    }
   ],
   "source": [
    "import boto3\n",
    "\n",
    "# Set up the boto3 session with the specified profile\n",
    "session = boto3.Session(profile_name=\"leaner_lab\", region_name=\"us-east-1\")\n",
    "dynamodb = session.resource(\"dynamodb\")\n",
    "\n",
    "# Get the table reference\n",
    "table = dynamodb.Table(dynamodb_table_name)\n",
    "\n",
    "# Iterate through data and put items in DynamoDB\n",
    "for key, content in data.items():\n",
    "    # Create item structure for DynamoDB\n",
    "    item = {\n",
    "        \"key\": key,\n",
    "        \"instruction\": content,\n",
    "    }\n",
    "\n",
    "    # Put item in DynamoDB\n",
    "    response = table.put_item(Item=item)\n",
    "\n",
    "print(\n",
    "    f\"Successfully stored {len(data)} items in DynamoDB table '{dynamodb_table_name}'\"\n",
    ")"
   ]
  },
  {
   "cell_type": "code",
   "execution_count": 22,
   "metadata": {},
   "outputs": [],
   "source": [
    "random_output_dir = \"output/random/\"\n",
    "\n",
    "data = {}\n",
    "file_list = []\n",
    "for root, dirs, files in os.walk(random_output_dir):\n",
    "    for file in files:\n",
    "        file_list.append(os.path.join(root, file))\n",
    "        # Extract 'Stella' from the file path\n",
    "        name = os.path.splitext(file)[0]\n",
    "        file_content = open(os.path.join(root, file), \"r\").read()\n",
    "\n",
    "        data[name] = file_content"
   ]
  },
  {
   "cell_type": "code",
   "execution_count": 23,
   "metadata": {},
   "outputs": [
    {
     "data": {
      "text/plain": [
       "{'Aiden': \"Aiden: I was once a knight in the king's court, but I was banished for questioning his orders. I've been wandering ever since, seeking redemption.\\nKube: That's unfortunate, Aiden. What made you question the king's orders?\\nAiden: I couldn't stand by and watch as he sent innocent people to their deaths. I had to speak out, even if it meant losing everything.\\nKube: I admire your courage, Aiden. It takes a lot to stand up for what you believe in, even if it means going against those in power.\\nAiden: Thank you, Kube. It hasn't been easy, but I know I made the right choice. I'm just trying to find my place in this world now.\",\n",
       " 'Maya': \"Maya: Kube, I've been a Kubernetes witch since I was a child. I was born with the ability to communicate with animals and plants.\\nKube: That's fascinating, Maya! How did you discover your powers?\\nMaya: It was a gradual process. As a child, I would talk to the trees and flowers in my backyard, and they would respond to me. My parents were initially worried, but they soon realized that I had a special gift.\\nKube: And what made you decide to use your powers to protect the environment?\\nMaya: I saw the harm that humans were causing to the environment, and I knew that I had to do something about it. As a Kubernetes witch, I have the ability to heal the land and protect it from those who would do it harm.\\nKube: That's amazing, Maya. I'm glad that you're using your powers for good.\",\n",
       " 'Rex': \"Rex: I've been a wanderer for as long as I can remember. I was orphaned at a young age and learned to survive on my own in the wilderness.\\nKube: That must have been tough. How did you learn to hunt and track?\\nRex: It was a matter of survival. I learned from the animals themselves. They taught me how to move silently, how to find food and water, and how to avoid danger.\",\n",
       " 'Vivian': \"Vivian: (strums her lute) I was once a simple village girl, but my love for music led me to the road. I've seen wonders and met heroes, and I've found my purpose in sharing their tales.\\nKube: (nods) That's fascinating! How did you learn to play the lute so beautifully?\\nVivian: (smiles) My grandmother taught me. She was a bard too, and she saw the fire in my eyes. She shared her songs and stories, and I fell in love with the art.\",\n",
       " 'Herl': \"Herl: I've been sailing since I was a kid. My family's been in the business for generations, and I can't imagine doing anything else.\\nKube: That's incredible, Herl! What's the most memorable experience you've had at sea?\\nHerl: There are so many to choose from! But one that stands out was when we got caught in a storm and had to ride it out. It was terrifying, but we made it through, and it taught me the importance of perseverance.\",\n",
       " 'Lena': \"Lena: I hail from a forest village, where my family has long practiced the art of Kubernetes magic. My grandmother was a renowned sorceress, and she taught me everything I know.\\nKube: That's fascinating, Lena. I've always admired the power of magic, but I've never had the opportunity to learn it myself. How did you come to specialize in Kubernetes magic?\\nLena: It was a natural progression for me. My grandmother saw my potential early on and began training me in the ways of Kubernetes. I quickly discovered that I had a natural affinity for it, and I've been honing my skills ever since.\",\n",
       " 'Lila': \"Lila: I was raised in a magical forest, where I learned to communicate with animals and harness the power of nature. My rabbit ears are a symbol of my connection to the forest and its creatures.\\nKube: That's fascinating, Lila! How did you end up in this village?\\nLila: I stumbled upon this village while exploring the forest. The villagers welcomed me with open arms, and I've been living here ever since, using my magic to protect the village and its people.\",\n",
       " 'El': \"El: (El grins) I hail from a long lineage of traders, and I've been honing my skills since I was a child. I've always been fascinated by the potential of Kubernetes, and I've spent years studying and experimenting with it.\\nKube: (Kube nods) That's quite an impressive background, El. What made you decide to focus on Kubernetes specifically?\\nEl: (El's eyes light up) Well, I saw the potential for Kubernetes to revolutionize the way we do business. It's a powerful tool that can help us automate and scale our operations, and I wanted to be at the forefront of that revolution.\",\n",
       " 'Stella': 'Stella: \"I grew up in a small village, where my mother taught me the art of astrology. I spent countless nights studying the stars, and eventually, I became a renowned astrologer.\"\\nKube: \"That\\'s fascinating! How did you end up here in this world?\"\\nStella: \"I was summoned here by a powerful sorcerer who needed my help. He told me that my knowledge of the stars would be crucial in saving this world from darkness.\"\\nKube: \"Wow, that\\'s quite a responsibility. I\\'m glad you\\'re here with us, Stella. Your knowledge has already proven invaluable to our group.\"',\n",
       " 'Zoe': \"Zoe: I was raised in a small village, and my parents were farmers. I was always fascinated by the stories of knights and their adventures, so I decided to become one myself.\\nKube: That's amazing! What inspired you to become a knight?\\nZoe: I wanted to make a difference in the world and help people in need. I trained hard and eventually became a knight. It's been a challenging journey, but it's also been incredibly rewarding.\",\n",
       " 'Nina': \"Nina: I've always been fascinated by the magical properties of herbs and their potential to heal. That's why I became an alchemist, to create potions that can cure even the most stubborn ailments.\\nKube: That's amazing, Nina! I've heard of the incredible healing powers of your potions. How did you learn to make them?\\nNina: I come from a long line of alchemists. My grandmother taught me everything I know, from identifying the right herbs to mixing them in the perfect proportions. It's a family tradition that I'm proud to carry on.\",\n",
       " 'Reno': \"Reno: I was once a rogue, but I've found a new purpose in life. I'm searching for my lost brother, and I've learned to protect myself and others with my swordsmanship.\\nKube: That's a noble quest, Reno. How did you become a rogue in the first place?\\nReno: I grew up in a poor village, and I had to steal to survive. But I've since learned the value of honor and loyalty. I'm not proud of my past, but it's made me who I am today.\\nKube: It sounds like you've come a long way, Reno. I admire your determination to find your brother and make amends for your past mistakes.\",\n",
       " 'Noah': \"Noah: I used to be part of a guerrilla team, fighting against an oppressive regime. I honed my skills in archery and stealth, becoming a formidable force in the resistance.\\nKube: That sounds intense. What made you decide to leave the team?\\nNoah: After years of fighting, I realized that violence wasn't the answer. I wanted to find a more peaceful way to make a difference. That's when I stumbled upon this land and decided to start anew.\\nKube: I can relate to that. I was once a warrior in my own world, but I've learned that there are other ways to protect what's important. It's good to have someone like you on our side.\",\n",
       " 'Alice': \"Alice: I grew up in a small village, where my parents taught me the art of combat. But one day, a group of bandits attacked our village and killed everyone.\\nKube: Oh, Alice, I'm so sorry to hear that. How did you survive?\\nAlice: I managed to escape and hide in the nearby forest. I lived there for months, surviving on whatever I could find. But then, a group of warriors found me and took me in. They trained me to fight and use my skills for good.\",\n",
       " 'Al': \"Al: I've been a knight for over a decade now, Kube. I've seen my fair share of battles and dark forces.\\nKube: That's quite a journey, Al. What made you become a knight in the first place?\\nAl: I come from a long line of knights, Kube. It was my destiny to follow in their footsteps and protect the kingdom. But I've also seen the corruption within the kingdom. That's why I'm looking for a new team to fight the darkness.\\nKube: I see. That's a heavy burden to carry, Al. But I believe we can make a difference together.\",\n",
       " 'Val': \"Val: I was a soldier in my previous life, but I was betrayed by my own people. I was reborn in this world to fight for Kubernetes.\\nKube: That's unfortunate. I'm sorry to hear that. But I'm glad you're here now. What made you choose to fight for Kubernetes?\\nVal: I believe in the power of Kubernetes to bring peace and harmony to this world. And I want to be a part of that. I want to make a difference.\\nKube: That's a noble goal. I'm glad to have you on my team. Together, we can make a difference.\",\n",
       " 'Sel': \"Sel: Kube, I've been meaning to tell you about my past. I was once a diviner in a far-off village, where my prophecies were both revered and feared.\\nKube: That sounds intriguing, Sel. What kind of prophecies did you make?\\nSel: I foresaw both natural disasters and political upheavals. My visions helped my village prepare for the worst, but they also made me a target for those who sought to exploit my abilities.\\nKube: That must have been difficult for you. How did you end up here in this world?\\nSel: I was summoned by a powerful sorcerer who sought to use my abilities for his own gain. But I managed to escape and found myself in this strange new world.\\nKube: It's amazing how our paths have crossed in this isekai. I'm glad to have met someone like you, Sel. Your abilities are a valuable asset to our group.\",\n",
       " 'Carl': \"Carl: I've always been fascinated by the arcane arts. My parents were both scholars, and they encouraged my curiosity from a young age. I spent countless hours poring over ancient texts, trying to unlock the secrets of Kubernetes magic.\\nKube: That's incredible, Carl! It takes a lot of dedication and intelligence to master Kubernetes magic. How did you end up becoming an adventurer?\\nCarl: It wasn't something I planned. I was content to spend my days in the library, lost in my studies. But one day, a group of adventurers came to my village, seeking my help to decipher an ancient Kubernetes text. I couldn't resist the opportunity to see the world and put my knowledge to the test.\\nKube: And what an adventure it's been! I'm glad I met you, Carl. Your knowledge of Kubernetes magic has been invaluable to our group.\"}"
      ]
     },
     "execution_count": 23,
     "metadata": {},
     "output_type": "execute_result"
    }
   ],
   "source": [
    "data"
   ]
  },
  {
   "cell_type": "code",
   "execution_count": 24,
   "metadata": {},
   "outputs": [
    {
     "name": "stdout",
     "output_type": "stream",
     "text": [
      "Successfully stored 18 items in DynamoDB table 'k8s-grader-api-ConversationTable-WSZ51CCEMPPZ'\n"
     ]
    }
   ],
   "source": [
    "import boto3\n",
    "\n",
    "# Set up the boto3 session with the specified profile\n",
    "session = boto3.Session(profile_name=\"leaner_lab\", region_name=\"us-east-1\")\n",
    "dynamodb = session.resource(\"dynamodb\")\n",
    "\n",
    "# Get the table reference\n",
    "table = dynamodb.Table(dynamodb_table_name)\n",
    "\n",
    "# Iterate through data and put items in DynamoDB\n",
    "for key, content in data.items():\n",
    "    # Create item structure for DynamoDB\n",
    "    item = {\n",
    "        \"key\": key,\n",
    "        \"instruction\": content,\n",
    "    }\n",
    "\n",
    "    # Put item in DynamoDB\n",
    "    response = table.put_item(Item=item)\n",
    "\n",
    "print(\n",
    "    f\"Successfully stored {len(data)} items in DynamoDB table '{dynamodb_table_name}'\"\n",
    ")"
   ]
  },
  {
   "cell_type": "code",
   "execution_count": null,
   "metadata": {},
   "outputs": [],
   "source": []
  }
 ],
 "metadata": {
  "kernelspec": {
   "display_name": "venv",
   "language": "python",
   "name": "python3"
  },
  "language_info": {
   "codemirror_mode": {
    "name": "ipython",
    "version": 3
   },
   "file_extension": ".py",
   "mimetype": "text/x-python",
   "name": "python",
   "nbconvert_exporter": "python",
   "pygments_lexer": "ipython3",
   "version": "3.12.8"
  }
 },
 "nbformat": 4,
 "nbformat_minor": 2
}
